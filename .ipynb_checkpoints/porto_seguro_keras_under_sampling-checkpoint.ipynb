{
 "cells": [
  {
   "cell_type": "markdown",
   "metadata": {},
   "source": [
    "\n",
    "==========================================================\n",
    "Porto Seguro: balancing samples in mini-batches with Keras\n",
    "==========================================================\n",
    "\n",
    "This example compares two strategies to train a neural-network on the Porto\n",
    "Seguro Kaggle data set [1]_. The data set is imbalanced and we show that\n",
    "balancing each mini-batch allows to improve performance and reduce the training\n",
    "time.\n",
    "\n",
    "References\n",
    "----------\n",
    "\n",
    ".. [1] https://www.kaggle.com/c/porto-seguro-safe-driver-prediction/data\n",
    "\n",
    "\n"
   ]
  },
  {
   "cell_type": "code",
   "execution_count": 2,
   "metadata": {},
   "outputs": [
    {
     "name": "stdout",
     "output_type": "stream",
     "text": [
      "Automatically created module for IPython interactive environment\n"
     ]
    }
   ],
   "source": [
    "# Authors: Guillaume Lemaitre <g.lemaitre58@gmail.com>\n",
    "# License: MIT\n",
    "\n",
    "print(__doc__)"
   ]
  },
  {
   "cell_type": "markdown",
   "metadata": {},
   "source": [
    "Data loading\n",
    "##############################################################################\n",
    "\n"
   ]
  },
  {
   "cell_type": "code",
   "execution_count": 3,
   "metadata": {},
   "outputs": [
    {
     "ename": "ModuleNotFoundError",
     "evalue": "No module named 'pandas'",
     "output_type": "error",
     "traceback": [
      "\u001b[0;31m---------------------------------------------------------------------------\u001b[0m",
      "\u001b[0;31mModuleNotFoundError\u001b[0m                       Traceback (most recent call last)",
      "\u001b[0;32m<ipython-input-3-93db94b6488d>\u001b[0m in \u001b[0;36m<module>\u001b[0;34m\u001b[0m\n\u001b[1;32m      1\u001b[0m \u001b[0;32mfrom\u001b[0m \u001b[0mcollections\u001b[0m \u001b[0;32mimport\u001b[0m \u001b[0mCounter\u001b[0m\u001b[0;34m\u001b[0m\u001b[0;34m\u001b[0m\u001b[0m\n\u001b[0;32m----> 2\u001b[0;31m \u001b[0;32mimport\u001b[0m \u001b[0mpandas\u001b[0m \u001b[0;32mas\u001b[0m \u001b[0mpd\u001b[0m\u001b[0;34m\u001b[0m\u001b[0;34m\u001b[0m\u001b[0m\n\u001b[0m\u001b[1;32m      3\u001b[0m \u001b[0;32mimport\u001b[0m \u001b[0mnumpy\u001b[0m \u001b[0;32mas\u001b[0m \u001b[0mnp\u001b[0m\u001b[0;34m\u001b[0m\u001b[0;34m\u001b[0m\u001b[0m\n",
      "\u001b[0;31mModuleNotFoundError\u001b[0m: No module named 'pandas'"
     ]
    }
   ],
   "source": [
    "from collections import Counter\n",
    "import pandas as pd\n",
    "import numpy as np"
   ]
  },
  {
   "cell_type": "markdown",
   "metadata": {},
   "source": [
    "First, you should download the Porto Seguro data set from Kaggle. See the\n",
    "link in the introduction.\n",
    "\n"
   ]
  },
  {
   "cell_type": "code",
   "execution_count": null,
   "metadata": {},
   "outputs": [],
   "source": [
    "training_data = pd.read_csv('./input/train.csv')\n",
    "testing_data = pd.read_csv('./input/test.csv')\n",
    "\n",
    "y_train = training_data[['id', 'target']].set_index('id')\n",
    "X_train = training_data.drop(['target'], axis=1).set_index('id')\n",
    "X_test = testing_data.set_index('id')"
   ]
  },
  {
   "cell_type": "markdown",
   "metadata": {},
   "source": [
    "The data set is imbalanced and it will have an effect on the fitting.\n",
    "\n"
   ]
  },
  {
   "cell_type": "code",
   "execution_count": null,
   "metadata": {},
   "outputs": [],
   "source": [
    "print('The data set is imbalanced: {}'.format(Counter(y_train['target'])))"
   ]
  },
  {
   "cell_type": "markdown",
   "metadata": {},
   "source": [
    "Define the pre-processing pipeline\n",
    "##############################################################################\n",
    "\n"
   ]
  },
  {
   "cell_type": "code",
   "execution_count": null,
   "metadata": {},
   "outputs": [],
   "source": [
    "from sklearn.compose import ColumnTransformer\n",
    "from sklearn.pipeline import make_pipeline\n",
    "from sklearn.preprocessing import OneHotEncoder\n",
    "from sklearn.preprocessing import StandardScaler\n",
    "from sklearn.preprocessing import FunctionTransformer\n",
    "from sklearn.impute import SimpleImputer\n",
    "\n",
    "\n",
    "def convert_float64(X):\n",
    "    return X.astype(np.float64)"
   ]
  },
  {
   "cell_type": "markdown",
   "metadata": {},
   "source": [
    "We want to standard scale the numerical features while we want to one-hot\n",
    "encode the categorical features. In this regard, we make use of the\n",
    ":class:`sklearn.compose.ColumnTransformer`.\n",
    "\n"
   ]
  },
  {
   "cell_type": "code",
   "execution_count": null,
   "metadata": {},
   "outputs": [],
   "source": [
    "numerical_columns = [name for name in X_train.columns\n",
    "                     if '_calc_' in name and '_bin' not in name]\n",
    "numerical_pipeline = make_pipeline(\n",
    "    FunctionTransformer(func=convert_float64, validate=False),\n",
    "    StandardScaler())\n",
    "\n",
    "categorical_columns = [name for name in X_train.columns\n",
    "                       if '_cat' in name]\n",
    "categorical_pipeline = make_pipeline(\n",
    "    SimpleImputer(missing_values=-1, strategy='most_frequent'),\n",
    "    OneHotEncoder(categories='auto'))\n",
    "\n",
    "preprocessor = ColumnTransformer(\n",
    "    [('numerical_preprocessing', numerical_pipeline, numerical_columns),\n",
    "     ('categorical_preprocessing', categorical_pipeline, categorical_columns)],\n",
    "    remainder='drop')\n",
    "\n",
    "# Create an environment variable to avoid using the GPU. This can be changed.\n",
    "import os\n",
    "os.environ['CUDA_VISIBLE_DEVICES'] = '-1'"
   ]
  },
  {
   "cell_type": "markdown",
   "metadata": {},
   "source": [
    "Create a neural-network\n",
    "##############################################################################\n",
    "\n"
   ]
  },
  {
   "cell_type": "code",
   "execution_count": null,
   "metadata": {},
   "outputs": [],
   "source": [
    "from keras.models import Sequential\n",
    "from keras.layers import Activation, Dense, Dropout, BatchNormalization\n",
    "\n",
    "\n",
    "def make_model(n_features):\n",
    "    model = Sequential()\n",
    "    model.add(Dense(200, input_shape=(n_features,),\n",
    "              kernel_initializer='glorot_normal'))\n",
    "    model.add(BatchNormalization())\n",
    "    model.add(Activation('relu'))\n",
    "    model.add(Dropout(0.5))\n",
    "    model.add(Dense(100, kernel_initializer='glorot_normal', use_bias=False))\n",
    "    model.add(BatchNormalization())\n",
    "    model.add(Activation('relu'))\n",
    "    model.add(Dropout(0.25))\n",
    "    model.add(Dense(50, kernel_initializer='glorot_normal', use_bias=False))\n",
    "    model.add(BatchNormalization())\n",
    "    model.add(Activation('relu'))\n",
    "    model.add(Dropout(0.15))\n",
    "    model.add(Dense(25, kernel_initializer='glorot_normal', use_bias=False))\n",
    "    model.add(BatchNormalization())\n",
    "    model.add(Activation('relu'))\n",
    "    model.add(Dropout(0.1))\n",
    "    model.add(Dense(1, activation='sigmoid'))\n",
    "\n",
    "    model.compile(loss='binary_crossentropy',\n",
    "                  optimizer='adam',\n",
    "                  metrics=['accuracy'])\n",
    "\n",
    "    return model"
   ]
  },
  {
   "cell_type": "markdown",
   "metadata": {},
   "source": [
    "We create a decorator to report the computation time\n",
    "\n"
   ]
  },
  {
   "cell_type": "code",
   "execution_count": null,
   "metadata": {},
   "outputs": [],
   "source": [
    "import time\n",
    "from functools import wraps\n",
    "\n",
    "\n",
    "def timeit(f):\n",
    "    @wraps(f)\n",
    "    def wrapper(*args, **kwds):\n",
    "        start_time = time.time()\n",
    "        result = f(*args, **kwds)\n",
    "        elapsed_time = time.time() - start_time\n",
    "        print('Elapsed computation time: {:.3f} secs'\n",
    "              .format(elapsed_time))\n",
    "        return (elapsed_time, result)\n",
    "    return wrapper"
   ]
  },
  {
   "cell_type": "markdown",
   "metadata": {},
   "source": [
    "The first model will be trained using the ``fit`` method and with imbalanced\n",
    "mini-batches.\n",
    "\n"
   ]
  },
  {
   "cell_type": "code",
   "execution_count": null,
   "metadata": {},
   "outputs": [],
   "source": [
    "from sklearn.metrics import roc_auc_score\n",
    "\n",
    "\n",
    "@timeit\n",
    "def fit_predict_imbalanced_model(X_train, y_train, X_test, y_test):\n",
    "    model = make_model(X_train.shape[1])\n",
    "    model.fit(X_train, y_train, epochs=2, verbose=1, batch_size=1000)\n",
    "    y_pred = model.predict_proba(X_test, batch_size=1000)\n",
    "    return roc_auc_score(y_test, y_pred)"
   ]
  },
  {
   "cell_type": "markdown",
   "metadata": {},
   "source": [
    "In the contrary, we will use imbalanced-learn to create a generator of\n",
    "mini-batches which will yield balanced mini-batches.\n",
    "\n"
   ]
  },
  {
   "cell_type": "code",
   "execution_count": null,
   "metadata": {},
   "outputs": [],
   "source": [
    "from imblearn.keras import BalancedBatchGenerator\n",
    "\n",
    "\n",
    "@timeit\n",
    "def fit_predict_balanced_model(X_train, y_train, X_test, y_test):\n",
    "    model = make_model(X_train.shape[1])\n",
    "    training_generator = BalancedBatchGenerator(X_train, y_train,\n",
    "                                                batch_size=1000,\n",
    "                                                random_state=42)\n",
    "    model.fit_generator(generator=training_generator, epochs=5, verbose=1)\n",
    "    y_pred = model.predict_proba(X_test, batch_size=1000)\n",
    "    return roc_auc_score(y_test, y_pred)"
   ]
  },
  {
   "cell_type": "markdown",
   "metadata": {},
   "source": [
    "Classification loop\n",
    "##############################################################################\n",
    "\n"
   ]
  },
  {
   "cell_type": "markdown",
   "metadata": {},
   "source": [
    "We will perform a 10-fold cross-validation and train the neural-network with\n",
    "the two different strategies previously presented.\n",
    "\n"
   ]
  },
  {
   "cell_type": "code",
   "execution_count": null,
   "metadata": {},
   "outputs": [],
   "source": [
    "from sklearn.model_selection import StratifiedKFold\n",
    "\n",
    "skf = StratifiedKFold(n_splits=10)\n",
    "\n",
    "cv_results_imbalanced = []\n",
    "cv_time_imbalanced = []\n",
    "cv_results_balanced = []\n",
    "cv_time_balanced = []\n",
    "for train_idx, valid_idx in skf.split(X_train, y_train):\n",
    "    X_local_train = preprocessor.fit_transform(X_train.iloc[train_idx])\n",
    "    y_local_train = y_train.iloc[train_idx].values.ravel()\n",
    "    X_local_test = preprocessor.transform(X_train.iloc[valid_idx])\n",
    "    y_local_test = y_train.iloc[valid_idx].values.ravel()\n",
    "\n",
    "    elapsed_time, roc_auc = fit_predict_imbalanced_model(\n",
    "        X_local_train, y_local_train, X_local_test, y_local_test)\n",
    "    cv_time_imbalanced.append(elapsed_time)\n",
    "    cv_results_imbalanced.append(roc_auc)\n",
    "\n",
    "    elapsed_time, roc_auc = fit_predict_balanced_model(\n",
    "        X_local_train, y_local_train, X_local_test, y_local_test)\n",
    "    cv_time_balanced.append(elapsed_time)\n",
    "    cv_results_balanced.append(roc_auc)"
   ]
  },
  {
   "cell_type": "markdown",
   "metadata": {},
   "source": [
    "Plot of the results and computation time\n",
    "##############################################################################\n",
    "\n"
   ]
  },
  {
   "cell_type": "code",
   "execution_count": null,
   "metadata": {},
   "outputs": [],
   "source": [
    "df_results = (pd.DataFrame({'Balanced model': cv_results_balanced,\n",
    "                            'Imbalanced model': cv_results_imbalanced})\n",
    "              .unstack().reset_index())\n",
    "df_time = (pd.DataFrame({'Balanced model': cv_time_balanced,\n",
    "                         'Imbalanced model': cv_time_imbalanced})\n",
    "           .unstack().reset_index())\n",
    "\n",
    "import seaborn as sns\n",
    "import matplotlib.pyplot as plt\n",
    "\n",
    "plt.figure()\n",
    "sns.boxplot(y='level_0', x=0, data=df_time)\n",
    "sns.despine(top=True, right=True, left=True)\n",
    "plt.xlabel('time [s]')\n",
    "plt.ylabel('')\n",
    "plt.title('Computation time difference using a random under-sampling')\n",
    "\n",
    "plt.figure()\n",
    "sns.boxplot(y='level_0', x=0, data=df_results, whis=10.0)\n",
    "sns.despine(top=True, right=True, left=True)\n",
    "ax = plt.gca()\n",
    "ax.xaxis.set_major_formatter(\n",
    "    plt.FuncFormatter(lambda x, pos: \"%i%%\" % (100 * x)))\n",
    "plt.xlabel('ROC-AUC')\n",
    "plt.ylabel('')\n",
    "plt.title('Difference in terms of ROC-AUC using a random under-sampling')"
   ]
  }
 ],
 "metadata": {
  "kernelspec": {
   "display_name": "python_tf",
   "language": "python",
   "name": "python_tf"
  },
  "language_info": {
   "codemirror_mode": {
    "name": "ipython",
    "version": 3
   },
   "file_extension": ".py",
   "mimetype": "text/x-python",
   "name": "python",
   "nbconvert_exporter": "python",
   "pygments_lexer": "ipython3",
   "version": "3.7.3"
  }
 },
 "nbformat": 4,
 "nbformat_minor": 1
}
