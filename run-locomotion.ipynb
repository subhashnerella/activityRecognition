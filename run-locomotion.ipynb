{
 "cells": [
  {
   "cell_type": "code",
   "execution_count": 1,
   "metadata": {},
   "outputs": [
    {
     "name": "stderr",
     "output_type": "stream",
     "text": [
      "Using TensorFlow backend.\n"
     ]
    }
   ],
   "source": [
    "from keras import backend as K\n",
    "from keras.models import Model\n",
    "from keras.layers import Input, Dense, LSTM, MaxPooling1D, Conv1D\n",
    "from keras.callbacks import ModelCheckpoint,EarlyStopping,LearningRateScheduler\n",
    "import numpy as np\n",
    "from sklearn.model_selection import train_test_split\n",
    "import pickle\n",
    "import random\n",
    "from sklearn.utils import class_weight\n",
    "from sklearn.metrics import roc_curve, auc, classification_report,confusion_matrix\n",
    "from sklearn.metrics import balanced_accuracy_score\n",
    "from keras import losses,optimizers,utils\n",
    "from matplotlib import pyplot as plt\n",
    "%matplotlib inline"
   ]
  },
  {
   "cell_type": "markdown",
   "metadata": {},
   "source": [
    "### Data pre-processing"
   ]
  },
  {
   "cell_type": "code",
   "execution_count": 2,
   "metadata": {},
   "outputs": [],
   "source": [
    "with open('data.p', 'rb') as fp:\n",
    "    data = pickle.load(fp)"
   ]
  },
  {
   "cell_type": "code",
   "execution_count": 3,
   "metadata": {},
   "outputs": [],
   "source": [
    "seed =15\n",
    "participants = list(data.keys())\n",
    "random.seed(seed)\n",
    "random.shuffle(participants)\n",
    "p_train = participants[:100]\n",
    "p_val = participants[100:125]\n",
    "p_test = participants[125:145]"
   ]
  },
  {
   "cell_type": "code",
   "execution_count": 4,
   "metadata": {},
   "outputs": [],
   "source": [
    "task = 'locomotion'"
   ]
  },
  {
   "cell_type": "code",
   "execution_count": 5,
   "metadata": {},
   "outputs": [],
   "source": [
    "X_train,Y_train,X_val,Y_val,X_test,Y_test = [],[],[],[],[],[]"
   ]
  },
  {
   "cell_type": "code",
   "execution_count": 6,
   "metadata": {},
   "outputs": [],
   "source": [
    "for p1 in p_train:\n",
    "    X_train.extend(data[p1][0])\n",
    "    Y_train.extend(data[p1][1])\n",
    "Y_train = np.asarray(Y_train,dtype=np.str)\n",
    "\n",
    "for p2 in p_val:\n",
    "    X_val.extend(data[p1][0])\n",
    "    Y_val.extend(data[p1][1])\n",
    "Y_val = np.asarray(Y_val,dtype=np.str)\n",
    "\n",
    "for p3 in p_test:\n",
    "    X_test.extend(data[p1][0])\n",
    "    Y_test.extend(data[p1][1])\n",
    "Y_test = np.asarray(Y_test,dtype=np.str)"
   ]
  },
  {
   "cell_type": "code",
   "execution_count": 7,
   "metadata": {},
   "outputs": [],
   "source": [
    "Y_train = np.where(Y_train==task,1,0)\n",
    "Y_val = np.where(Y_val==task,1,0)\n",
    "Y_test = np.where(Y_test==task,1,0)"
   ]
  },
  {
   "cell_type": "code",
   "execution_count": 8,
   "metadata": {},
   "outputs": [],
   "source": [
    "X_train = np.array(X_train)\n",
    "Y_train = np.array(Y_train)\n",
    "X_val = np.array(X_val)\n",
    "Y_val = np.array(Y_val)\n",
    "X_test = np.array(X_test)\n",
    "Y_test = np.array(Y_test)"
   ]
  },
  {
   "cell_type": "code",
   "execution_count": 9,
   "metadata": {},
   "outputs": [],
   "source": [
    "train_weights = class_weight.compute_class_weight('balanced',np.unique(Y_train),Y_train)\n",
    "val_weights = class_weight.compute_class_weight('balanced',np.unique(Y_val),Y_val)"
   ]
  },
  {
   "cell_type": "markdown",
   "metadata": {},
   "source": [
    "### keras model"
   ]
  },
  {
   "cell_type": "code",
   "execution_count": 10,
   "metadata": {},
   "outputs": [
    {
     "name": "stderr",
     "output_type": "stream",
     "text": [
      "WARNING: Logging before flag parsing goes to stderr.\n",
      "W0913 19:52:24.630378 140684457834304 deprecation_wrapper.py:119] From /home/subhashnerella/anaconda3/envs/tf/lib/python3.7/site-packages/keras/backend/tensorflow_backend.py:74: The name tf.get_default_graph is deprecated. Please use tf.compat.v1.get_default_graph instead.\n",
      "\n",
      "W0913 19:52:24.638291 140684457834304 deprecation_wrapper.py:119] From /home/subhashnerella/anaconda3/envs/tf/lib/python3.7/site-packages/keras/backend/tensorflow_backend.py:517: The name tf.placeholder is deprecated. Please use tf.compat.v1.placeholder instead.\n",
      "\n",
      "W0913 19:52:24.640146 140684457834304 deprecation_wrapper.py:119] From /home/subhashnerella/anaconda3/envs/tf/lib/python3.7/site-packages/keras/backend/tensorflow_backend.py:4138: The name tf.random_uniform is deprecated. Please use tf.random.uniform instead.\n",
      "\n"
     ]
    }
   ],
   "source": [
    "inputs = Input(shape=(480,3))\n",
    "conv1 = Conv1D(32, 8, strides =1 , padding='same', activation='relu')(inputs)\n",
    "conv2 = Conv1D(32, 8, strides =1 , padding='same', activation='relu')(conv1)\n",
    "lstm1 = LSTM(32)(conv2)\n",
    "output = Dense(1,activation='sigmoid')(lstm1)\n",
    "model = Model(inputs=inputs,outputs= output)"
   ]
  },
  {
   "cell_type": "code",
   "execution_count": 20,
   "metadata": {
    "scrolled": true
   },
   "outputs": [
    {
     "name": "stdout",
     "output_type": "stream",
     "text": [
      "Train on 68555 samples, validate on 20950 samples\n",
      "Epoch 1/15\n",
      "68555/68555 [==============================] - 303s 4ms/step - loss: 0.1749 - binary_accuracy: 0.9452 - val_loss: 0.3232 - val_binary_accuracy: 0.9010\n",
      "Epoch 2/15\n",
      "68555/68555 [==============================] - 298s 4ms/step - loss: 0.1690 - binary_accuracy: 0.9469 - val_loss: 0.3261 - val_binary_accuracy: 0.9033\n",
      "Epoch 3/15\n",
      "68555/68555 [==============================] - 306s 4ms/step - loss: 0.1623 - binary_accuracy: 0.9492 - val_loss: 0.3471 - val_binary_accuracy: 0.9033\n",
      "Epoch 4/15\n",
      "68555/68555 [==============================] - 306s 4ms/step - loss: 0.1570 - binary_accuracy: 0.9508 - val_loss: 0.2785 - val_binary_accuracy: 0.9177\n",
      "Epoch 5/15\n",
      "68555/68555 [==============================] - 293s 4ms/step - loss: 0.1508 - binary_accuracy: 0.9531 - val_loss: 0.2710 - val_binary_accuracy: 0.9212\n",
      "Epoch 6/15\n",
      "68555/68555 [==============================] - 292s 4ms/step - loss: 0.1461 - binary_accuracy: 0.9548 - val_loss: 0.2591 - val_binary_accuracy: 0.9153\n",
      "Epoch 7/15\n",
      "68555/68555 [==============================] - 284s 4ms/step - loss: 0.1437 - binary_accuracy: 0.9554 - val_loss: 0.2514 - val_binary_accuracy: 0.9200\n",
      "Epoch 8/15\n",
      "68555/68555 [==============================] - 284s 4ms/step - loss: 0.1375 - binary_accuracy: 0.9575 - val_loss: 0.2402 - val_binary_accuracy: 0.9272\n",
      "Epoch 9/15\n",
      "68555/68555 [==============================] - 283s 4ms/step - loss: 0.1348 - binary_accuracy: 0.9589 - val_loss: 0.2424 - val_binary_accuracy: 0.9236\n",
      "Epoch 10/15\n",
      "68555/68555 [==============================] - 283s 4ms/step - loss: 0.1315 - binary_accuracy: 0.9596 - val_loss: 0.2576 - val_binary_accuracy: 0.9224\n",
      "Epoch 11/15\n",
      "68555/68555 [==============================] - 283s 4ms/step - loss: 0.1312 - binary_accuracy: 0.9596 - val_loss: 0.2461 - val_binary_accuracy: 0.9308\n",
      "Epoch 12/15\n",
      "68555/68555 [==============================] - 283s 4ms/step - loss: 0.1268 - binary_accuracy: 0.9608 - val_loss: 0.2102 - val_binary_accuracy: 0.9332\n",
      "Epoch 13/15\n",
      "68555/68555 [==============================] - 283s 4ms/step - loss: 0.1250 - binary_accuracy: 0.9618 - val_loss: 0.2016 - val_binary_accuracy: 0.9332\n",
      "Epoch 14/15\n",
      "68555/68555 [==============================] - 283s 4ms/step - loss: 0.1222 - binary_accuracy: 0.9627 - val_loss: 0.2027 - val_binary_accuracy: 0.9415\n",
      "Epoch 15/15\n",
      "68555/68555 [==============================] - 283s 4ms/step - loss: 0.1215 - binary_accuracy: 0.9627 - val_loss: 0.1819 - val_binary_accuracy: 0.9439\n"
     ]
    }
   ],
   "source": [
    "model.compile(loss='binary_crossentropy',optimizer='adam',metrics=['binary_accuracy'])\n",
    "checkpoint = ModelCheckpoint('weight.h5', monitor='binary_accuracy',save_best_only=True,mode='max')\n",
    "history = model.fit(X_train, Y_train,batch_size=32,validation_data=(X_val,Y_val),\n",
    "          class_weight=train_weights,epochs=15,callbacks=[checkpoint])"
   ]
  },
  {
   "cell_type": "code",
   "execution_count": 21,
   "metadata": {},
   "outputs": [
    {
     "data": {
      "image/png": "[encoded data removed]",
      "text/plain": [
       "<Figure size 720x432 with 2 Axes>"
      ]
     },
     "metadata": {
      "needs_background": "light"
     },
     "output_type": "display_data"
    }
   ],
   "source": [
    "plt.figure(figsize=(10,6))\n",
    "plt.subplot(211)\n",
    "plt.plot(history.history['binary_accuracy'],marker='o')\n",
    "plt.plot(history.history['val_binary_accuracy'],marker='o')\n",
    "plt.grid(True)\n",
    "plt.title('accuracy plot')\n",
    "plt.ylabel('accuracy')\n",
    "plt.xlabel('epoch')\n",
    "plt.legend(['train', 'validation'], loc='upper left')\n",
    "plt.subplot(212)\n",
    "plt.grid(True)\n",
    "plt.plot(history.history['loss'])\n",
    "plt.plot(history.history['val_loss'])\n",
    "plt.ylabel('loss')\n",
    "plt.xlabel('epoch')\n",
    "plt.legend(['train', 'validation'], loc='upper left')\n",
    "plt.tight_layout()"
   ]
  },
  {
   "cell_type": "code",
   "execution_count": 22,
   "metadata": {},
   "outputs": [],
   "source": [
    "Y_pred = model.predict(X_test,batch_size = 32)"
   ]
  },
  {
   "cell_type": "code",
   "execution_count": 23,
   "metadata": {},
   "outputs": [],
   "source": [
    "fpr, tpr, thresholds=roc_curve(Y_test,Y_pred,pos_label=1)\n",
    "area = auc(fpr,tpr)"
   ]
  },
  {
   "cell_type": "code",
   "execution_count": 24,
   "metadata": {},
   "outputs": [
    {
     "name": "stdout",
     "output_type": "stream",
     "text": [
      "aUC = 0.92\n"
     ]
    }
   ],
   "source": [
    "print ('aUC = %0.2f' %area)"
   ]
  },
  {
   "cell_type": "code",
   "execution_count": 25,
   "metadata": {},
   "outputs": [
    {
     "data": {
      "image/png": "[encoded data removed]",
      "text/plain": [
       "<Figure size 432x288 with 1 Axes>"
      ]
     },
     "metadata": {
      "needs_background": "light"
     },
     "output_type": "display_data"
    }
   ],
   "source": [
    "plt.figure()\n",
    "lw = 2\n",
    "plt.plot(fpr, tpr, color='darkorange',\n",
    "         lw=lw, label='ROC curve (area = %0.2f)' %area)\n",
    "plt.plot([0, 1], [0, 1], color='navy', lw=lw, linestyle='--')\n",
    "plt.xlim([-0.05, 1.05])\n",
    "plt.ylim([-0.05, 1.05])\n",
    "plt.xlabel('False Positive Rate')\n",
    "plt.ylabel('True Positive Rate')\n",
    "plt.title('Receiver operating characteristic example')\n",
    "plt.legend(loc=\"lower right\")\n",
    "plt.show()"
   ]
  },
  {
   "cell_type": "code",
   "execution_count": 26,
   "metadata": {},
   "outputs": [
    {
     "name": "stdout",
     "output_type": "stream",
     "text": [
      "                precision    recall  f1-score   support\n",
      "\n",
      "non-locomotion       0.94      0.99      0.97     14460\n",
      "    locomotion       0.94      0.63      0.76      2300\n",
      "\n",
      "      accuracy                           0.94     16760\n",
      "     macro avg       0.94      0.81      0.86     16760\n",
      "  weighted avg       0.94      0.94      0.94     16760\n",
      "\n"
     ]
    }
   ],
   "source": [
    "Y_pred1 = Y_pred\n",
    "Y_pred1[Y_pred>=0.5]=1\n",
    "Y_pred1[Y_pred<0.5]=0\n",
    "classes = ['non-locomotion','locomotion']\n",
    "print(classification_report(Y_test,Y_pred,target_names=classes))"
   ]
  },
  {
   "cell_type": "code",
   "execution_count": 27,
   "metadata": {},
   "outputs": [
    {
     "data": {
      "text/plain": [
       "array([[14360,   100],\n",
       "       [  840,  1460]])"
      ]
     },
     "execution_count": 27,
     "metadata": {},
     "output_type": "execute_result"
    }
   ],
   "source": [
    "confusion_matrix(Y_test, Y_pred1)"
   ]
  },
  {
   "cell_type": "code",
   "execution_count": 28,
   "metadata": {},
   "outputs": [
    {
     "data": {
      "text/plain": [
       "0.8139334896866919"
      ]
     },
     "execution_count": 28,
     "metadata": {},
     "output_type": "execute_result"
    }
   ],
   "source": [
    "balanced_accuracy_score(Y_test, Y_pred1)"
   ]
  },
  {
   "cell_type": "code",
   "execution_count": null,
   "metadata": {},
   "outputs": [],
   "source": []
  }
 ],
 "metadata": {
  "kernelspec": {
   "display_name": "Python 3",
   "language": "python",
   "name": "python3"
  },
  "language_info": {
   "codemirror_mode": {
    "name": "ipython",
    "version": 3
   },
   "file_extension": ".py",
   "mimetype": "text/x-python",
   "name": "python",
   "nbconvert_exporter": "python",
   "pygments_lexer": "ipython3",
   "version": "3.7.4"
  }
 },
 "nbformat": 4,
 "nbformat_minor": 2
}
