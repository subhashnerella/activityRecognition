{
 "cells": [
  {
   "cell_type": "code",
   "execution_count": 1,
   "metadata": {},
   "outputs": [
    {
     "name": "stderr",
     "output_type": "stream",
     "text": [
      "Using TensorFlow backend.\n"
     ]
    }
   ],
   "source": [
    "from keras import backend as K\n",
    "from keras.models import Model\n",
    "from keras.layers import Input, Dense, LSTM, MaxPooling1D, Conv1D\n",
    "from keras.callbacks import ModelCheckpoint,EarlyStopping,LearningRateScheduler\n",
    "import numpy as np\n",
    "from sklearn.model_selection import train_test_split\n",
    "import pickle\n",
    "import random\n",
    "from sklearn.utils import class_weight\n",
    "from sklearn.metrics import roc_curve, auc, classification_report,confusion_matrix\n",
    "from sklearn.metrics import balanced_accuracy_score\n",
    "from keras import losses,optimizers,utils\n",
    "from matplotlib import pyplot as plt\n",
    "%matplotlib inline"
   ]
  },
  {
   "cell_type": "markdown",
   "metadata": {},
   "source": [
    "### Data pre-processing"
   ]
  },
  {
   "cell_type": "code",
   "execution_count": 2,
   "metadata": {},
   "outputs": [],
   "source": [
    "with open('data.p', 'rb') as fp:\n",
    "    data = pickle.load(fp)"
   ]
  },
  {
   "cell_type": "code",
   "execution_count": 3,
   "metadata": {},
   "outputs": [],
   "source": [
    "seed =15\n",
    "participants = list(data.keys())\n",
    "random.seed(seed)\n",
    "random.shuffle(participants)\n",
    "p_train = participants[:100]\n",
    "p_val = participants[100:125]\n",
    "p_test = participants[125:145]"
   ]
  },
  {
   "cell_type": "code",
   "execution_count": 4,
   "metadata": {},
   "outputs": [],
   "source": [
    "task = 'lifestyle'"
   ]
  },
  {
   "cell_type": "code",
   "execution_count": 5,
   "metadata": {},
   "outputs": [],
   "source": [
    "X_train,Y_train,X_val,Y_val,X_test,Y_test = [],[],[],[],[],[]"
   ]
  },
  {
   "cell_type": "code",
   "execution_count": 6,
   "metadata": {},
   "outputs": [],
   "source": [
    "for p1 in p_train:\n",
    "    X_train.extend(data[p1][0])\n",
    "    Y_train.extend(data[p1][1])\n",
    "Y_train = np.asarray(Y_train,dtype=np.str)\n",
    "\n",
    "for p2 in p_val:\n",
    "    X_val.extend(data[p1][0])\n",
    "    Y_val.extend(data[p1][1])\n",
    "Y_val = np.asarray(Y_val,dtype=np.str)\n",
    "\n",
    "for p3 in p_test:\n",
    "    X_test.extend(data[p1][0])\n",
    "    Y_test.extend(data[p1][1])\n",
    "Y_test = np.asarray(Y_test,dtype=np.str)"
   ]
  },
  {
   "cell_type": "code",
   "execution_count": 7,
   "metadata": {},
   "outputs": [],
   "source": [
    "Y_train = np.where(Y_train==task,1,0)\n",
    "Y_val = np.where(Y_val==task,1,0)\n",
    "Y_test = np.where(Y_test==task,1,0)"
   ]
  },
  {
   "cell_type": "code",
   "execution_count": 8,
   "metadata": {},
   "outputs": [],
   "source": [
    "X_train = np.array(X_train)\n",
    "Y_train = np.array(Y_train)\n",
    "X_val = np.array(X_val)\n",
    "Y_val = np.array(Y_val)\n",
    "X_test = np.array(X_test)\n",
    "Y_test = np.array(Y_test)"
   ]
  },
  {
   "cell_type": "code",
   "execution_count": 10,
   "metadata": {},
   "outputs": [],
   "source": [
    "train_weights = class_weight.compute_class_weight('balanced',np.unique(Y_train),Y_train)\n",
    "val_weights = class_weight.compute_class_weight('balanced',np.unique(Y_val),Y_val)"
   ]
  },
  {
   "cell_type": "markdown",
   "metadata": {},
   "source": [
    "### keras model"
   ]
  },
  {
   "cell_type": "code",
   "execution_count": 12,
   "metadata": {},
   "outputs": [
    {
     "name": "stderr",
     "output_type": "stream",
     "text": [
      "WARNING: Logging before flag parsing goes to stderr.\n",
      "W0915 13:40:09.064834 140611053868864 deprecation_wrapper.py:119] From /home/subhashnerella/anaconda3/envs/tf/lib/python3.7/site-packages/keras/backend/tensorflow_backend.py:74: The name tf.get_default_graph is deprecated. Please use tf.compat.v1.get_default_graph instead.\n",
      "\n",
      "W0915 13:40:09.088602 140611053868864 deprecation_wrapper.py:119] From /home/subhashnerella/anaconda3/envs/tf/lib/python3.7/site-packages/keras/backend/tensorflow_backend.py:517: The name tf.placeholder is deprecated. Please use tf.compat.v1.placeholder instead.\n",
      "\n",
      "W0915 13:40:09.091601 140611053868864 deprecation_wrapper.py:119] From /home/subhashnerella/anaconda3/envs/tf/lib/python3.7/site-packages/keras/backend/tensorflow_backend.py:4138: The name tf.random_uniform is deprecated. Please use tf.random.uniform instead.\n",
      "\n"
     ]
    }
   ],
   "source": [
    "inputs = Input(shape=(480,3))\n",
    "conv1 = Conv1D(32, 8, strides =1 , padding='same', activation='relu')(inputs)\n",
    "conv2 = Conv1D(32, 8, strides =1 , padding='same', activation='relu')(conv1)\n",
    "lstm1 = LSTM(32)(conv2)\n",
    "output = Dense(1,activation='sigmoid')(lstm1)\n",
    "model = Model(inputs=inputs,outputs= output)"
   ]
  },
  {
   "cell_type": "code",
   "execution_count": 13,
   "metadata": {
    "scrolled": true
   },
   "outputs": [
    {
     "name": "stderr",
     "output_type": "stream",
     "text": [
      "W0915 13:40:22.748887 140611053868864 deprecation_wrapper.py:119] From /home/subhashnerella/anaconda3/envs/tf/lib/python3.7/site-packages/keras/optimizers.py:790: The name tf.train.Optimizer is deprecated. Please use tf.compat.v1.train.Optimizer instead.\n",
      "\n",
      "W0915 13:40:22.761851 140611053868864 deprecation_wrapper.py:119] From /home/subhashnerella/anaconda3/envs/tf/lib/python3.7/site-packages/keras/backend/tensorflow_backend.py:3376: The name tf.log is deprecated. Please use tf.math.log instead.\n",
      "\n",
      "W0915 13:40:22.764645 140611053868864 deprecation.py:323] From /home/subhashnerella/anaconda3/envs/tf/lib/python3.7/site-packages/tensorflow/python/ops/nn_impl.py:180: add_dispatch_support.<locals>.wrapper (from tensorflow.python.ops.array_ops) is deprecated and will be removed in a future version.\n",
      "Instructions for updating:\n",
      "Use tf.where in 2.0, which has the same broadcast rule as np.where\n",
      "W0915 13:40:23.304237 140611053868864 deprecation_wrapper.py:119] From /home/subhashnerella/anaconda3/envs/tf/lib/python3.7/site-packages/keras/backend/tensorflow_backend.py:986: The name tf.assign_add is deprecated. Please use tf.compat.v1.assign_add instead.\n",
      "\n"
     ]
    },
    {
     "name": "stdout",
     "output_type": "stream",
     "text": [
      "Train on 68555 samples, validate on 20950 samples\n",
      "Epoch 1/15\n",
      "68555/68555 [==============================] - 860s 13ms/step - loss: 0.4305 - binary_accuracy: 0.8309 - val_loss: 0.5113 - val_binary_accuracy: 0.8043\n",
      "Epoch 2/15\n",
      "68555/68555 [==============================] - 862s 13ms/step - loss: 0.3017 - binary_accuracy: 0.8857 - val_loss: 0.3454 - val_binary_accuracy: 0.8723\n",
      "Epoch 3/15\n",
      "68555/68555 [==============================] - 864s 13ms/step - loss: 0.2515 - binary_accuracy: 0.9054 - val_loss: 0.3113 - val_binary_accuracy: 0.8795\n",
      "Epoch 4/15\n",
      "68555/68555 [==============================] - 873s 13ms/step - loss: 0.2315 - binary_accuracy: 0.9107 - val_loss: 0.3330 - val_binary_accuracy: 0.8640\n",
      "Epoch 5/15\n",
      "68555/68555 [==============================] - 882s 13ms/step - loss: 0.2182 - binary_accuracy: 0.9159 - val_loss: 0.3373 - val_binary_accuracy: 0.8723\n",
      "Epoch 6/15\n",
      "68555/68555 [==============================] - 870s 13ms/step - loss: 0.2105 - binary_accuracy: 0.9188 - val_loss: 0.3208 - val_binary_accuracy: 0.8783\n",
      "Epoch 7/15\n",
      "68555/68555 [==============================] - 850s 12ms/step - loss: 0.2061 - binary_accuracy: 0.9193 - val_loss: 0.2876 - val_binary_accuracy: 0.8974\n",
      "Epoch 8/15\n",
      "68555/68555 [==============================] - 848s 12ms/step - loss: 0.1960 - binary_accuracy: 0.9237 - val_loss: 0.2685 - val_binary_accuracy: 0.9045\n",
      "Epoch 9/15\n",
      "68555/68555 [==============================] - 867s 13ms/step - loss: 0.1894 - binary_accuracy: 0.9256 - val_loss: 0.2572 - val_binary_accuracy: 0.9117\n",
      "Epoch 10/15\n",
      "68555/68555 [==============================] - 869s 13ms/step - loss: 0.1836 - binary_accuracy: 0.9274 - val_loss: 0.2155 - val_binary_accuracy: 0.9129\n",
      "Epoch 11/15\n",
      "68555/68555 [==============================] - 876s 13ms/step - loss: 0.1806 - binary_accuracy: 0.9304 - val_loss: 0.2417 - val_binary_accuracy: 0.9081\n",
      "Epoch 12/15\n",
      "68555/68555 [==============================] - 888s 13ms/step - loss: 0.1790 - binary_accuracy: 0.9298 - val_loss: 0.2166 - val_binary_accuracy: 0.9177\n",
      "Epoch 13/15\n",
      "68555/68555 [==============================] - 866s 13ms/step - loss: 0.1752 - binary_accuracy: 0.9311 - val_loss: 0.2030 - val_binary_accuracy: 0.9212\n",
      "Epoch 14/15\n",
      "68555/68555 [==============================] - 878s 13ms/step - loss: 0.1722 - binary_accuracy: 0.9326 - val_loss: 0.1798 - val_binary_accuracy: 0.9296\n",
      "Epoch 15/15\n",
      "68555/68555 [==============================] - 872s 13ms/step - loss: 0.1696 - binary_accuracy: 0.9332 - val_loss: 0.2234 - val_binary_accuracy: 0.9165\n"
     ]
    }
   ],
   "source": [
    "model.compile(loss='binary_crossentropy',optimizer='adam',metrics=['binary_accuracy'])\n",
    "checkpoint = ModelCheckpoint('weight.h5', monitor='binary_accuracy',save_best_only=True,mode='max')\n",
    "history = model.fit(X_train, Y_train,batch_size=32,validation_data=(X_val,Y_val),\n",
    "          class_weight=train_weights,epochs=15,callbacks=[checkpoint])"
   ]
  },
  {
   "cell_type": "code",
   "execution_count": 14,
   "metadata": {},
   "outputs": [
    {
     "data": {
      "image/png": "[encoded data removed]",
      "text/plain": [
       "<Figure size 720x432 with 2 Axes>"
      ]
     },
     "metadata": {
      "needs_background": "light"
     },
     "output_type": "display_data"
    }
   ],
   "source": [
    "plt.figure(figsize=(10,6))\n",
    "plt.subplot(211)\n",
    "plt.plot(history.history['binary_accuracy'],marker='o')\n",
    "plt.plot(history.history['val_binary_accuracy'],marker='o')\n",
    "plt.grid(True)\n",
    "plt.title('accuracy plot')\n",
    "plt.ylabel('accuracy')\n",
    "plt.xlabel('epoch')\n",
    "plt.legend(['train', 'validation'], loc='upper left')\n",
    "plt.subplot(212)\n",
    "\n",
    "plt.grid(True)\n",
    "plt.plot(history.history['loss'])\n",
    "plt.plot(history.history['val_loss'])\n",
    "plt.ylabel('loss')\n",
    "plt.xlabel('epoch')\n",
    "plt.legend(['train', 'validation'], loc='upper left')\n",
    "plt.tight_layout()"
   ]
  },
  {
   "cell_type": "code",
   "execution_count": 15,
   "metadata": {},
   "outputs": [],
   "source": [
    "Y_pred = model.predict(X_test,batch_size = 32)"
   ]
  },
  {
   "cell_type": "code",
   "execution_count": 16,
   "metadata": {},
   "outputs": [],
   "source": [
    "fpr, tpr, thresholds=roc_curve(Y_test,Y_pred,pos_label=1)\n",
    "area = auc(fpr,tpr)"
   ]
  },
  {
   "cell_type": "code",
   "execution_count": 17,
   "metadata": {},
   "outputs": [
    {
     "name": "stdout",
     "output_type": "stream",
     "text": [
      "aUC = 0.96\n"
     ]
    }
   ],
   "source": [
    "print ('aUC = %0.2f' %area)"
   ]
  },
  {
   "cell_type": "code",
   "execution_count": 18,
   "metadata": {},
   "outputs": [
    {
     "data": {
      "image/png": "[encoded data removed]",
      "text/plain": [
       "<Figure size 432x288 with 1 Axes>"
      ]
     },
     "metadata": {
      "needs_background": "light"
     },
     "output_type": "display_data"
    }
   ],
   "source": [
    "plt.figure()\n",
    "lw = 2\n",
    "plt.plot(fpr, tpr, color='darkorange',\n",
    "         lw=lw, label='ROC curve (area = %0.2f)' %area)\n",
    "plt.plot([0, 1], [0, 1], color='navy', lw=lw, linestyle='--')\n",
    "plt.xlim([-0.05, 1.05])\n",
    "plt.ylim([-0.05, 1.05])\n",
    "plt.xlabel('False Positive Rate')\n",
    "plt.ylabel('True Positive Rate')\n",
    "plt.title('Receiver operating characteristic example')\n",
    "plt.legend(loc=\"lower right\")\n",
    "plt.show()"
   ]
  },
  {
   "cell_type": "code",
   "execution_count": 20,
   "metadata": {},
   "outputs": [
    {
     "name": "stdout",
     "output_type": "stream",
     "text": [
      "               precision    recall  f1-score   support\n",
      "\n",
      "non-lifestyle       0.94      0.72      0.81      4220\n",
      "    lifestyle       0.91      0.98      0.95     12540\n",
      "\n",
      "     accuracy                           0.92     16760\n",
      "    macro avg       0.92      0.85      0.88     16760\n",
      " weighted avg       0.92      0.92      0.91     16760\n",
      "\n"
     ]
    }
   ],
   "source": [
    "Y_pred1 = Y_pred\n",
    "Y_pred1[Y_pred>=0.5]=1\n",
    "Y_pred1[Y_pred<0.5]=0\n",
    "classes = ['non-lifestyle','lifestyle']\n",
    "print(classification_report(Y_test,Y_pred,target_names=classes))"
   ]
  },
  {
   "cell_type": "code",
   "execution_count": 21,
   "metadata": {},
   "outputs": [
    {
     "data": {
      "text/plain": [
       "array([[ 3020,  1200],\n",
       "       [  200, 12340]])"
      ]
     },
     "execution_count": 21,
     "metadata": {},
     "output_type": "execute_result"
    }
   ],
   "source": [
    "confusion_matrix(Y_test, Y_pred1)"
   ]
  },
  {
   "cell_type": "code",
   "execution_count": 22,
   "metadata": {},
   "outputs": [
    {
     "data": {
      "text/plain": [
       "0.8498454235545779"
      ]
     },
     "execution_count": 22,
     "metadata": {},
     "output_type": "execute_result"
    }
   ],
   "source": [
    "balanced_accuracy_score(Y_test, Y_pred1)"
   ]
  },
  {
   "cell_type": "code",
   "execution_count": 23,
   "metadata": {},
   "outputs": [
    {
     "data": {
      "text/plain": [
       "(array([0, 1]), array([15148, 53407]))"
      ]
     },
     "execution_count": 23,
     "metadata": {},
     "output_type": "execute_result"
    }
   ],
   "source": [
    "np.unique(Y_train,return_counts=True)"
   ]
  },
  {
   "cell_type": "code",
   "execution_count": 25,
   "metadata": {},
   "outputs": [
    {
     "data": {
      "text/plain": [
       "(array([0, 1]), array([ 4220, 12540]))"
      ]
     },
     "execution_count": 25,
     "metadata": {},
     "output_type": "execute_result"
    }
   ],
   "source": [
    "np.unique(Y_test,return_counts=True)"
   ]
  },
  {
   "cell_type": "code",
   "execution_count": null,
   "metadata": {},
   "outputs": [],
   "source": []
  }
 ],
 "metadata": {
  "kernelspec": {
   "display_name": "Python 3",
   "language": "python",
   "name": "python3"
  },
  "language_info": {
   "codemirror_mode": {
    "name": "ipython",
    "version": 3
   },
   "file_extension": ".py",
   "mimetype": "text/x-python",
   "name": "python",
   "nbconvert_exporter": "python",
   "pygments_lexer": "ipython3",
   "version": "3.7.4"
  }
 },
 "nbformat": 4,
 "nbformat_minor": 2
}
